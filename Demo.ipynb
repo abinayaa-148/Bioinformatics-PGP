{
 "cells": [
  {
   "cell_type": "code",
   "execution_count": 11,
   "id": "27d3eb46-3b09-447d-a2b0-7d61c0a1f760",
   "metadata": {},
   "outputs": [],
   "source": [
    "a=1"
   ]
  },
  {
   "cell_type": "code",
   "execution_count": 12,
   "id": "28bdb839-5dd9-49f6-a691-d8f1c53a1347",
   "metadata": {},
   "outputs": [
    {
     "data": {
      "text/plain": [
       "1"
      ]
     },
     "execution_count": 12,
     "metadata": {},
     "output_type": "execute_result"
    }
   ],
   "source": [
    "a"
   ]
  },
  {
   "cell_type": "code",
   "execution_count": 13,
   "id": "313806e9-c4e7-4f9b-991f-8fd72725db33",
   "metadata": {},
   "outputs": [
    {
     "data": {
      "text/plain": [
       "int"
      ]
     },
     "execution_count": 13,
     "metadata": {},
     "output_type": "execute_result"
    }
   ],
   "source": [
    "type(a)"
   ]
  },
  {
   "cell_type": "code",
   "execution_count": 14,
   "id": "9d9ea341-15af-4e0a-ba06-2fd2a9cd82b3",
   "metadata": {},
   "outputs": [],
   "source": [
    "a=1/3"
   ]
  },
  {
   "cell_type": "code",
   "execution_count": 15,
   "id": "9ad6298f-e88d-463b-970f-ad634c25affc",
   "metadata": {},
   "outputs": [
    {
     "data": {
      "text/plain": [
       "float"
      ]
     },
     "execution_count": 15,
     "metadata": {},
     "output_type": "execute_result"
    }
   ],
   "source": [
    "type(a)"
   ]
  },
  {
   "cell_type": "code",
   "execution_count": 16,
   "id": "c91dab25-fea3-4faf-9879-4d5a5aa10266",
   "metadata": {},
   "outputs": [],
   "source": [
    "a=\"hi, how r u?\""
   ]
  },
  {
   "cell_type": "code",
   "execution_count": 17,
   "id": "a487e926-e0e1-4b50-bb51-28bdb283b65b",
   "metadata": {},
   "outputs": [
    {
     "data": {
      "text/plain": [
       "str"
      ]
     },
     "execution_count": 17,
     "metadata": {},
     "output_type": "execute_result"
    }
   ],
   "source": [
    "type(a)"
   ]
  },
  {
   "cell_type": "code",
   "execution_count": 18,
   "id": "75024e3c-4062-455c-821c-3a341c459723",
   "metadata": {},
   "outputs": [],
   "source": [
    "a=False"
   ]
  },
  {
   "cell_type": "code",
   "execution_count": 19,
   "id": "a189561e-7677-442f-a8cb-d9ea70b2a187",
   "metadata": {},
   "outputs": [
    {
     "data": {
      "text/plain": [
       "bool"
      ]
     },
     "execution_count": 19,
     "metadata": {},
     "output_type": "execute_result"
    }
   ],
   "source": [
    "type(a)"
   ]
  },
  {
   "cell_type": "code",
   "execution_count": 20,
   "id": "99abf2f5-b5fa-4ca3-9144-6400df518e6b",
   "metadata": {},
   "outputs": [],
   "source": [
    "a=3.4"
   ]
  },
  {
   "cell_type": "code",
   "execution_count": 21,
   "id": "431324a0-af88-446f-b77e-fe075d1d52bd",
   "metadata": {},
   "outputs": [
    {
     "data": {
      "text/plain": [
       "float"
      ]
     },
     "execution_count": 21,
     "metadata": {},
     "output_type": "execute_result"
    }
   ],
   "source": [
    "type(a)"
   ]
  },
  {
   "cell_type": "code",
   "execution_count": 22,
   "id": "0aacb820-f447-4747-9b9c-d953d44170b9",
   "metadata": {},
   "outputs": [
    {
     "data": {
      "text/plain": [
       "3"
      ]
     },
     "execution_count": 22,
     "metadata": {},
     "output_type": "execute_result"
    }
   ],
   "source": [
    "int(a)"
   ]
  },
  {
   "cell_type": "code",
   "execution_count": 23,
   "id": "fed00504-954e-4b1d-88d6-8d5b7813c083",
   "metadata": {},
   "outputs": [
    {
     "data": {
      "text/plain": [
       "int"
      ]
     },
     "execution_count": 23,
     "metadata": {},
     "output_type": "execute_result"
    }
   ],
   "source": [
    "type(int(a))"
   ]
  },
  {
   "cell_type": "code",
   "execution_count": 24,
   "id": "ee7b68dc-0239-43c7-85f3-201a97dcd2b3",
   "metadata": {},
   "outputs": [],
   "source": [
    "Road=100"
   ]
  },
  {
   "cell_type": "code",
   "execution_count": 26,
   "id": "35b88c5a-8975-4489-8b90-0625f6ffb1be",
   "metadata": {
    "scrolled": true
   },
   "outputs": [
    {
     "data": {
      "text/plain": [
       "int"
      ]
     },
     "execution_count": 26,
     "metadata": {},
     "output_type": "execute_result"
    }
   ],
   "source": [
    "type("
   ]
  },
  {
   "cell_type": "code",
   "execution_count": 29,
   "id": "82cf44c2-601a-4e80-bd76-0c2f5c92ac8e",
   "metadata": {},
   "outputs": [
    {
     "data": {
      "text/plain": [
       "str"
      ]
     },
     "execution_count": 29,
     "metadata": {},
     "output_type": "execute_result"
    }
   ],
   "source": [
    "type(str(Road))"
   ]
  },
  {
   "cell_type": "code",
   "execution_count": 32,
   "id": "e1310d8f-1427-4b15-833b-bc3203fed9c3",
   "metadata": {},
   "outputs": [
    {
     "data": {
      "text/plain": [
       "'100Km'"
      ]
     },
     "execution_count": 32,
     "metadata": {},
     "output_type": "execute_result"
    }
   ],
   "source": [
    "str(Road)+\"Km\""
   ]
  },
  {
   "cell_type": "code",
   "execution_count": null,
   "id": "719b8754-baac-4e8e-af16-cd98ee4a54fe",
   "metadata": {},
   "outputs": [],
   "source": []
  },
  {
   "cell_type": "code",
   "execution_count": null,
   "id": "8b1cb68a-7f7c-43a8-a24f-74aab61d351e",
   "metadata": {},
   "outputs": [],
   "source": []
  },
  {
   "cell_type": "code",
   "execution_count": null,
   "id": "7bded123-1f5d-42fb-a28b-37222c518efa",
   "metadata": {},
   "outputs": [],
   "source": []
  },
  {
   "cell_type": "code",
   "execution_count": null,
   "id": "e05ff54b-3262-4263-8222-ab5351fc32b5",
   "metadata": {},
   "outputs": [],
   "source": []
  }
 ],
 "metadata": {
  "kernelspec": {
   "display_name": "Python 3 (ipykernel)",
   "language": "python",
   "name": "python3"
  },
  "language_info": {
   "codemirror_mode": {
    "name": "ipython",
    "version": 3
   },
   "file_extension": ".py",
   "mimetype": "text/x-python",
   "name": "python",
   "nbconvert_exporter": "python",
   "pygments_lexer": "ipython3",
   "version": "3.12.4"
  }
 },
 "nbformat": 4,
 "nbformat_minor": 5
}
