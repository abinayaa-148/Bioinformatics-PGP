{
 "cells": [
  {
   "cell_type": "markdown",
   "id": "7f83ea41-07cc-4081-8159-7305793b2242",
   "metadata": {},
   "source": [
    "List"
   ]
  },
  {
   "cell_type": "code",
   "execution_count": 1,
   "id": "373817b2-4971-4c20-bfb4-81b6d90930fb",
   "metadata": {},
   "outputs": [],
   "source": [
    "a=[\"abi\",\"harish\",\"mikku\",\"suresh\"]"
   ]
  },
  {
   "cell_type": "code",
   "execution_count": 2,
   "id": "7f535fed-3d8f-4809-a33c-d2b9011758f4",
   "metadata": {},
   "outputs": [
    {
     "data": {
      "text/plain": [
       "['abi', 'harish', 'mikku', 'suresh']"
      ]
     },
     "execution_count": 2,
     "metadata": {},
     "output_type": "execute_result"
    }
   ],
   "source": [
    "a"
   ]
  },
  {
   "cell_type": "code",
   "execution_count": 3,
   "id": "b66fffd2-83e1-4578-89d9-db9d3f4ca375",
   "metadata": {},
   "outputs": [
    {
     "data": {
      "text/plain": [
       "4"
      ]
     },
     "execution_count": 3,
     "metadata": {},
     "output_type": "execute_result"
    }
   ],
   "source": [
    "len(a)"
   ]
  },
  {
   "cell_type": "code",
   "execution_count": 4,
   "id": "820f01eb-3395-4c25-a090-769b4f50bd08",
   "metadata": {},
   "outputs": [
    {
     "data": {
      "text/plain": [
       "0"
      ]
     },
     "execution_count": 4,
     "metadata": {},
     "output_type": "execute_result"
    }
   ],
   "source": [
    "a.index(\"abi\")"
   ]
  },
  {
   "cell_type": "code",
   "execution_count": 5,
   "id": "40b42442-9856-48b6-b4ac-2b9cda588a7d",
   "metadata": {},
   "outputs": [
    {
     "data": {
      "text/plain": [
       "3"
      ]
     },
     "execution_count": 5,
     "metadata": {},
     "output_type": "execute_result"
    }
   ],
   "source": [
    "a.index(\"suresh\")"
   ]
  },
  {
   "cell_type": "code",
   "execution_count": 6,
   "id": "0a2aa4cd-89f0-40c1-bd05-a29ff5725e69",
   "metadata": {},
   "outputs": [
    {
     "data": {
      "text/plain": [
       "1"
      ]
     },
     "execution_count": 6,
     "metadata": {},
     "output_type": "execute_result"
    }
   ],
   "source": [
    "a.index(\"harish\")"
   ]
  },
  {
   "cell_type": "code",
   "execution_count": 7,
   "id": "43222622-52db-446b-a2c8-a362a6dd53ea",
   "metadata": {},
   "outputs": [],
   "source": [
    "b=[\"abi\",\"abi\",\"suresh\",\"suresh\"]"
   ]
  },
  {
   "cell_type": "code",
   "execution_count": 8,
   "id": "1020e804-4797-4ef6-accb-952ef8ec9cec",
   "metadata": {},
   "outputs": [
    {
     "data": {
      "text/plain": [
       "['abi', 'abi', 'suresh', 'suresh']"
      ]
     },
     "execution_count": 8,
     "metadata": {},
     "output_type": "execute_result"
    }
   ],
   "source": [
    "b"
   ]
  },
  {
   "cell_type": "code",
   "execution_count": 10,
   "id": "77490270-37df-4bba-8088-5184e66fa7a4",
   "metadata": {},
   "outputs": [
    {
     "data": {
      "text/plain": [
       "{'abi', 'suresh'}"
      ]
     },
     "execution_count": 10,
     "metadata": {},
     "output_type": "execute_result"
    }
   ],
   "source": [
    "set(b)"
   ]
  },
  {
   "cell_type": "code",
   "execution_count": 11,
   "id": "4960922b-d39f-432e-bb91-4faabd6635c4",
   "metadata": {},
   "outputs": [],
   "source": [
    "c=[\"atgctagc\"]"
   ]
  },
  {
   "cell_type": "code",
   "execution_count": 12,
   "id": "8bcf8e71-79b4-477a-b13a-fc3d37bb99f5",
   "metadata": {},
   "outputs": [
    {
     "data": {
      "text/plain": [
       "{'atgctagc'}"
      ]
     },
     "execution_count": 12,
     "metadata": {},
     "output_type": "execute_result"
    }
   ],
   "source": [
    "set (c)"
   ]
  },
  {
   "cell_type": "markdown",
   "id": "b2c77ba0-420f-4e67-ae50-269a4146899c",
   "metadata": {},
   "source": [
    "# Dictionary"
   ]
  },
  {
   "cell_type": "code",
   "execution_count": 16,
   "id": "2307f07d-20a4-41fa-85a7-2c75cd9d0985",
   "metadata": {},
   "outputs": [],
   "source": [
    "a_l={\"Name\":\"Abinayaa Suresh Kumar\",\n",
    "     \"Age\": 25,\n",
    "     \"Date of Birth\": \"04.11.1999\"}"
   ]
  },
  {
   "cell_type": "code",
   "execution_count": 19,
   "id": "f13fb6ac-cf34-4970-b8d5-1029943b7462",
   "metadata": {},
   "outputs": [
    {
     "data": {
      "text/plain": [
       "'Abinayaa Suresh Kumar'"
      ]
     },
     "execution_count": 19,
     "metadata": {},
     "output_type": "execute_result"
    }
   ],
   "source": [
    "a_l[\"Name\"]"
   ]
  },
  {
   "cell_type": "code",
   "execution_count": 20,
   "id": "6b39c933-e6a9-46bf-a50c-95478b6d78b5",
   "metadata": {},
   "outputs": [
    {
     "data": {
      "text/plain": [
       "'04.11.1999'"
      ]
     },
     "execution_count": 20,
     "metadata": {},
     "output_type": "execute_result"
    }
   ],
   "source": [
    "a_l[\"Date of Birth\"]"
   ]
  },
  {
   "cell_type": "code",
   "execution_count": 21,
   "id": "d8c4e5d9-7f36-4a4f-9c68-4131efbe8c97",
   "metadata": {},
   "outputs": [
    {
     "data": {
      "text/plain": [
       "['abi', 'harish', 'mikku', 'suresh']"
      ]
     },
     "execution_count": 21,
     "metadata": {},
     "output_type": "execute_result"
    }
   ],
   "source": [
    "a"
   ]
  },
  {
   "cell_type": "code",
   "execution_count": 26,
   "id": "32f51496-5c88-40a3-8926-483351692863",
   "metadata": {},
   "outputs": [
    {
     "data": {
      "text/plain": [
       "['abi', 'harish', 'mikku', 'suresh', 'thilaga', 'thilaga', 'thilaga']"
      ]
     },
     "execution_count": 26,
     "metadata": {},
     "output_type": "execute_result"
    }
   ],
   "source": [
    "a"
   ]
  },
  {
   "cell_type": "code",
   "execution_count": 27,
   "id": "cc0180a9-de79-4f30-a425-629626bad579",
   "metadata": {},
   "outputs": [],
   "source": [
    "a.append(\"danya\")"
   ]
  },
  {
   "cell_type": "code",
   "execution_count": 28,
   "id": "7ba00136-f350-4d63-9990-b94cd512dc81",
   "metadata": {},
   "outputs": [
    {
     "data": {
      "text/plain": [
       "['abi', 'harish', 'mikku', 'suresh', 'thilaga', 'thilaga', 'thilaga', 'danya']"
      ]
     },
     "execution_count": 28,
     "metadata": {},
     "output_type": "execute_result"
    }
   ],
   "source": [
    "a"
   ]
  },
  {
   "cell_type": "code",
   "execution_count": 29,
   "id": "1fc0be22-86c0-456a-ad80-ec5cf7fc9f39",
   "metadata": {},
   "outputs": [],
   "source": [
    "i=(1,2,3,4)\n"
   ]
  },
  {
   "cell_type": "code",
   "execution_count": 38,
   "id": "831306d4-37e4-43ac-9b7d-27bcfced337e",
   "metadata": {},
   "outputs": [
    {
     "name": "stdout",
     "output_type": "stream",
     "text": [
      "1\n",
      "2\n",
      "3\n",
      "4\n",
      "5\n",
      "6\n",
      "7\n",
      "8\n",
      "9\n"
     ]
    }
   ],
   "source": [
    "for i in range(1,10):\n",
    "    print (i)"
   ]
  },
  {
   "cell_type": "code",
   "execution_count": 39,
   "id": "c0d0174d-3282-4817-9735-b3f5d506f989",
   "metadata": {},
   "outputs": [
    {
     "name": "stdout",
     "output_type": "stream",
     "text": [
      "9\n",
      "8\n",
      "7\n",
      "6\n",
      "5\n",
      "4\n",
      "3\n",
      "2\n",
      "1\n"
     ]
    }
   ],
   "source": [
    "for i in reversed (range(1,10)):\n",
    "    print (i)"
   ]
  },
  {
   "cell_type": "code",
   "execution_count": 40,
   "id": "375fb97b-4794-4e64-83d8-059a78caf86e",
   "metadata": {},
   "outputs": [
    {
     "name": "stdout",
     "output_type": "stream",
     "text": [
      "1\n",
      "3\n",
      "5\n",
      "7\n",
      "9\n"
     ]
    }
   ],
   "source": [
    "for i in range(1,11,  2):\n",
    "    print (i)"
   ]
  },
  {
   "cell_type": "code",
   "execution_count": null,
   "id": "0787a920-814f-40d8-b5ea-8a7c35424df2",
   "metadata": {},
   "outputs": [],
   "source": []
  }
 ],
 "metadata": {
  "kernelspec": {
   "display_name": "Python 3 (ipykernel)",
   "language": "python",
   "name": "python3"
  },
  "language_info": {
   "codemirror_mode": {
    "name": "ipython",
    "version": 3
   },
   "file_extension": ".py",
   "mimetype": "text/x-python",
   "name": "python",
   "nbconvert_exporter": "python",
   "pygments_lexer": "ipython3",
   "version": "3.12.4"
  }
 },
 "nbformat": 4,
 "nbformat_minor": 5
}
