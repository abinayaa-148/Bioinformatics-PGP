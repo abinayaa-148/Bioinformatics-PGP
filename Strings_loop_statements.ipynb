{
 "cells": [
  {
   "cell_type": "markdown",
   "id": "a11e5a68-4dc6-44d5-abe9-473efa69c8a7",
   "metadata": {},
   "source": [
    "# if, else, else if"
   ]
  },
  {
   "cell_type": "code",
   "execution_count": 34,
   "id": "371ee562-8747-45d1-8723-1af985f07866",
   "metadata": {},
   "outputs": [],
   "source": [
    "name=\"Abinayaa\""
   ]
  },
  {
   "cell_type": "code",
   "execution_count": 35,
   "id": "60bf1ab0-8463-457d-a2ed-4cea6b6dd369",
   "metadata": {},
   "outputs": [
    {
     "name": "stdout",
     "output_type": "stream",
     "text": [
      "name is not equal to Abinayaa\n"
     ]
    }
   ],
   "source": [
    "if name !=\"Abinayaa\":\n",
    "    print(\"Okay\")\n",
    "else:\n",
    "    print(\"name is not equal to Abinayaa\")"
   ]
  },
  {
   "cell_type": "code",
   "execution_count": 3,
   "id": "3326998c-7c76-422e-8314-988a9508ecf4",
   "metadata": {},
   "outputs": [],
   "source": [
    "name=\"Gita\""
   ]
  },
  {
   "cell_type": "code",
   "execution_count": 4,
   "id": "67a0f989-fdb0-4831-8925-caec3d034962",
   "metadata": {},
   "outputs": [
    {
     "name": "stdout",
     "output_type": "stream",
     "text": [
      "Okay\n"
     ]
    }
   ],
   "source": [
    "if name !=\"Abinayaa\":\n",
    "    print(\"Okay\")\n",
    "elif name == \"Gita\":\n",
    "    print(\"Hi\"+name)\n",
    "else:\n",
    "    print(\"name is not equal to Abinayaa\")"
   ]
  },
  {
   "cell_type": "code",
   "execution_count": 6,
   "id": "b7af047f-9771-4d84-957b-fa080e195282",
   "metadata": {},
   "outputs": [
    {
     "name": "stdout",
     "output_type": "stream",
     "text": [
      "Hi Gita\n"
     ]
    }
   ],
   "source": [
    "if name !=\"Abinayaa\" and name !=\"Gita\":\n",
    "    print(\"Okay\")\n",
    "elif name == \"Gita\":\n",
    "    print(\"Hi \"+name)\n",
    "else:\n",
    "    print(\"name is not equal to Abinayaa\")"
   ]
  },
  {
   "cell_type": "code",
   "execution_count": 7,
   "id": "30737031-d86c-4e50-8ed3-5f66ad4c0f5d",
   "metadata": {},
   "outputs": [],
   "source": [
    "a=[\"apples\", \"lemons\", \"oranges\"]"
   ]
  },
  {
   "cell_type": "code",
   "execution_count": 8,
   "id": "2daae800-3f53-4fd7-8496-34b86b0934b7",
   "metadata": {},
   "outputs": [
    {
     "name": "stdout",
     "output_type": "stream",
     "text": [
      "Okay\n"
     ]
    }
   ],
   "source": [
    "if a != \"cucumber\":\n",
    "   print(\"Okay\")\n",
    "else:\n",
    "    print(\"It is not available\")"
   ]
  },
  {
   "cell_type": "code",
   "execution_count": 36,
   "id": "d67b565e-c610-483d-a6c3-1b14ed775ef6",
   "metadata": {},
   "outputs": [],
   "source": [
    "a=[\"apples\", \"lemons\", \"oranges\", \"cucumber\"]"
   ]
  },
  {
   "cell_type": "code",
   "execution_count": 37,
   "id": "7f7e4caf-938a-415f-9747-915b8d26f0e2",
   "metadata": {},
   "outputs": [
    {
     "name": "stdout",
     "output_type": "stream",
     "text": [
      "Okay\n"
     ]
    }
   ],
   "source": [
    "if a != \"banana\":\n",
    "   print(\"Okay\")\n",
    "else:\n",
    "    print(\"It is available\")"
   ]
  },
  {
   "cell_type": "markdown",
   "id": "3780f986-4a9e-4d6c-829c-58643a11059f",
   "metadata": {},
   "source": [
    "# for loop"
   ]
  },
  {
   "cell_type": "code",
   "execution_count": 38,
   "id": "d3fd4f12-68d7-41d7-9ec2-13b0a06e7c18",
   "metadata": {},
   "outputs": [],
   "source": [
    "a=[\"apples\", \"lemons\", \"oranges\", \"cucumber\"]"
   ]
  },
  {
   "cell_type": "code",
   "execution_count": 39,
   "id": "d50e1a37-c263-4922-a644-307e3c42fef1",
   "metadata": {},
   "outputs": [
    {
     "data": {
      "text/plain": [
       "4"
      ]
     },
     "execution_count": 39,
     "metadata": {},
     "output_type": "execute_result"
    }
   ],
   "source": [
    "len(a)"
   ]
  },
  {
   "cell_type": "code",
   "execution_count": 40,
   "id": "c4ce29e6-051c-4a9a-92db-796ec0044760",
   "metadata": {},
   "outputs": [
    {
     "name": "stdout",
     "output_type": "stream",
     "text": [
      "apples\n",
      "lemons\n",
      "oranges\n",
      "cucumber\n"
     ]
    }
   ],
   "source": [
    "for items in a:\n",
    "    print(items)"
   ]
  },
  {
   "cell_type": "code",
   "execution_count": 41,
   "id": "1c5e1e20-2849-4c14-ba93-c546f5cfcc65",
   "metadata": {},
   "outputs": [],
   "source": [
    "numbers=[1,2,3,4,5,6,7,8,9,10]"
   ]
  },
  {
   "cell_type": "code",
   "execution_count": 42,
   "id": "97fe32d2-2fcd-49cc-9535-ae0cfcd3275b",
   "metadata": {},
   "outputs": [],
   "source": [
    "sum=0"
   ]
  },
  {
   "cell_type": "code",
   "execution_count": 47,
   "id": "4ba0c8cd-f62c-4d15-bac7-885b168b541a",
   "metadata": {},
   "outputs": [],
   "source": [
    "for number in numbers:\n",
    "    sum=sum+number\n",
    "    "
   ]
  },
  {
   "cell_type": "code",
   "execution_count": 48,
   "id": "9eef9989-fd1a-4acc-9a24-7449bfbe8600",
   "metadata": {},
   "outputs": [
    {
     "data": {
      "text/plain": [
       "55"
      ]
     },
     "execution_count": 48,
     "metadata": {},
     "output_type": "execute_result"
    }
   ],
   "source": [
    "sum"
   ]
  },
  {
   "cell_type": "code",
   "execution_count": 49,
   "id": "284b74a7-9757-49a3-81cc-4202a9bc833d",
   "metadata": {},
   "outputs": [],
   "source": [
    "a=[\"apples\", \"lemons\", \"oranges\", \"cucumber\"]"
   ]
  },
  {
   "cell_type": "code",
   "execution_count": 50,
   "id": "d3bd9939-7ae8-4484-bcbc-93c540334477",
   "metadata": {},
   "outputs": [
    {
     "name": "stdout",
     "output_type": "stream",
     "text": [
      "apples  is available\n"
     ]
    }
   ],
   "source": [
    "for items in a:\n",
    "    if items==\"apples\":\n",
    "        print(items+\"  is available\")"
   ]
  },
  {
   "cell_type": "code",
   "execution_count": 51,
   "id": "0926c5d2-ac4e-4dca-8343-d46c7b0846fc",
   "metadata": {},
   "outputs": [
    {
     "name": "stdout",
     "output_type": "stream",
     "text": [
      "apples  is available\n",
      "no availability\n",
      "no availability\n",
      "no availability\n"
     ]
    }
   ],
   "source": [
    "for items in a:\n",
    "    if items==\"apples\":\n",
    "        print(items+\"  is available\")\n",
    "    elif items==\"banana\":\n",
    "        print(items+\"  is available\")\n",
    "    else:\n",
    "        print(\"no availability\")"
   ]
  },
  {
   "cell_type": "code",
   "execution_count": 52,
   "id": "06d4d798-8814-464e-98ac-ed8e963138cc",
   "metadata": {},
   "outputs": [
    {
     "name": "stdout",
     "output_type": "stream",
     "text": [
      "apples  is available\n",
      "no availability\n"
     ]
    }
   ],
   "source": [
    "for items in a:\n",
    "    if items==\"apples\":\n",
    "        print(items+\"  is available\")\n",
    "    elif items==\"banana\":\n",
    "        print(items+\"  is available\")\n",
    "    else:\n",
    "        print(\"no availability\")\n",
    "        break"
   ]
  },
  {
   "cell_type": "code",
   "execution_count": 53,
   "id": "3569ddb9-4c02-4b68-b973-a66405a608e6",
   "metadata": {},
   "outputs": [
    {
     "name": "stdout",
     "output_type": "stream",
     "text": [
      "apples  is available\n",
      "no availability\n"
     ]
    }
   ],
   "source": [
    "for items in a:\n",
    "    if items==\"apples\":\n",
    "        print(items+\"  is available\")\n",
    "        continue\n",
    "    elif items==\"banana\":\n",
    "        print(items+\"  is available\")\n",
    "    else:\n",
    "        print(\"no availability\")\n",
    "        break"
   ]
  },
  {
   "cell_type": "markdown",
   "id": "a630971b-10dc-4c81-8e9b-99fa1148c120",
   "metadata": {},
   "source": [
    "# while loop"
   ]
  },
  {
   "cell_type": "code",
   "execution_count": 63,
   "id": "7877e213-90e5-465d-bd99-d61f25eb4176",
   "metadata": {},
   "outputs": [],
   "source": [
    "age=0"
   ]
  },
  {
   "cell_type": "code",
   "execution_count": 64,
   "id": "0f1be3fa-471c-41d4-9475-2c6ef58c06b6",
   "metadata": {},
   "outputs": [
    {
     "name": "stdout",
     "output_type": "stream",
     "text": [
      "You are not eligible at the age 0\n",
      "You are not eligible at the age 1\n",
      "You are not eligible at the age 2\n",
      "You are not eligible at the age 3\n",
      "You are not eligible at the age 4\n",
      "You are not eligible at the age 5\n",
      "You are not eligible at the age 6\n",
      "You are not eligible at the age 7\n",
      "You are not eligible at the age 8\n",
      "You are not eligible at the age 9\n",
      "You are not eligible at the age 10\n",
      "You are not eligible at the age 11\n",
      "You are not eligible at the age 12\n",
      "You are not eligible at the age 13\n",
      "You are not eligible at the age 14\n",
      "You are not eligible at the age 15\n",
      "You are not eligible at the age 16\n",
      "You are not eligible at the age 17\n",
      "Go and vote\n"
     ]
    }
   ],
   "source": [
    "while age <=18:\n",
    "    if age==18:\n",
    "       print(\"Go and vote\")\n",
    "    else:\n",
    "        print(\"You are not eligible at the age \"+str(age))\n",
    "    age=age+1\n",
    "    "
   ]
  },
  {
   "cell_type": "code",
   "execution_count": 88,
   "id": "e24aed92-1ae6-447d-b055-8f54ee961e90",
   "metadata": {},
   "outputs": [],
   "source": [
    "message=f\"Hi {names} how are you doing\""
   ]
  },
  {
   "cell_type": "code",
   "execution_count": 7,
   "id": "a64f0696-3162-4b8e-90c1-0528e40aa7c0",
   "metadata": {},
   "outputs": [],
   "source": [
    "names=[\"Abi\", \"harish\", \"Suresh\", \"Mithu\"]"
   ]
  },
  {
   "cell_type": "code",
   "execution_count": 8,
   "id": "e797ab01-3d12-4235-9dc6-2b64119a4ba7",
   "metadata": {},
   "outputs": [],
   "source": [
    "message=f\"Hi, {names} how are you doing\""
   ]
  },
  {
   "cell_type": "code",
   "execution_count": 14,
   "id": "67833ed4-a1f9-47b6-8fd0-48160fe1903b",
   "metadata": {},
   "outputs": [
    {
     "name": "stdout",
     "output_type": "stream",
     "text": [
      "Hi, ['Abi', 'harish', 'Suresh', 'Mithu'] how are you doing\n",
      "Hi, ['Abi', 'harish', 'Suresh', 'Mithu'] how are you doing\n",
      "Hi, ['Abi', 'harish', 'Suresh', 'Mithu'] how are you doing\n",
      "Hi, ['Abi', 'harish', 'Suresh', 'Mithu'] how are you doing\n"
     ]
    }
   ],
   "source": [
    "for items in names:\n",
    "     print(message.format(items=names))"
   ]
  },
  {
   "cell_type": "code",
   "execution_count": null,
   "id": "d2048e9e-6472-4e7e-853d-b02031db8d52",
   "metadata": {},
   "outputs": [],
   "source": []
  }
 ],
 "metadata": {
  "kernelspec": {
   "display_name": "Python 3 (ipykernel)",
   "language": "python",
   "name": "python3"
  },
  "language_info": {
   "codemirror_mode": {
    "name": "ipython",
    "version": 3
   },
   "file_extension": ".py",
   "mimetype": "text/x-python",
   "name": "python",
   "nbconvert_exporter": "python",
   "pygments_lexer": "ipython3",
   "version": "3.12.4"
  }
 },
 "nbformat": 4,
 "nbformat_minor": 5
}
