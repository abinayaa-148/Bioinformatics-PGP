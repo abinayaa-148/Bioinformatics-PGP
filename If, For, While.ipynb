{
 "cells": [
  {
   "cell_type": "markdown",
   "id": "1eb58038-6fcb-461e-8451-09742b37fbd3",
   "metadata": {},
   "source": [
    "# If statement"
   ]
  },
  {
   "cell_type": "code",
   "execution_count": 6,
   "id": "935eeab9-65b4-408f-864c-663ea5cd1eaa",
   "metadata": {},
   "outputs": [
    {
     "name": "stdin",
     "output_type": "stream",
     "text": [
      "Username:  Abinayaa\n",
      "Password:  123456\n"
     ]
    }
   ],
   "source": [
    "name=input(\"Username: \")\n",
    "password=input(\"Password: \")"
   ]
  },
  {
   "cell_type": "code",
   "execution_count": 7,
   "id": "dadd6ea7-eb23-48d4-a1ad-a77cafb1fc2f",
   "metadata": {},
   "outputs": [
    {
     "name": "stdout",
     "output_type": "stream",
     "text": [
      "Hello Abinayaa, Welcome!!\n"
     ]
    }
   ],
   "source": [
    "if name==\"Abinayaa\" and password==\"123456\":\n",
    "    print(\"Hello Abinayaa, Welcome!!\")\n",
    "else:\n",
    "    print(\"Username or password is invalid\")"
   ]
  },
  {
   "cell_type": "code",
   "execution_count": 8,
   "id": "6f427a42-0c4c-4752-862b-195000c56c1b",
   "metadata": {},
   "outputs": [
    {
     "name": "stdin",
     "output_type": "stream",
     "text": [
      "Username:  Abinayaa\n",
      "Password:  098765\n"
     ]
    }
   ],
   "source": [
    "name=input(\"Username: \")\n",
    "password=input(\"Password: \")"
   ]
  },
  {
   "cell_type": "code",
   "execution_count": 9,
   "id": "8238c47a-0060-4d17-aad8-f693d7cf175b",
   "metadata": {},
   "outputs": [
    {
     "name": "stdout",
     "output_type": "stream",
     "text": [
      "Username or password is invalid\n"
     ]
    }
   ],
   "source": [
    "if name==\"Abinayaa\" and password==\"123456\":\n",
    "    print(\"Hello Abinayaa, Welcome!!\")\n",
    "else:\n",
    "    print(\"Username or password is invalid\")"
   ]
  },
  {
   "cell_type": "code",
   "execution_count": 10,
   "id": "14c1759f-aa29-46b9-a70a-e3229ec2f873",
   "metadata": {},
   "outputs": [],
   "source": [
    "a=23\n",
    "b=32"
   ]
  },
  {
   "cell_type": "code",
   "execution_count": 11,
   "id": "8c2aa643-0f27-448e-b3b7-aa2bd79705cc",
   "metadata": {},
   "outputs": [
    {
     "name": "stdout",
     "output_type": "stream",
     "text": [
      "b is greater than a\n"
     ]
    }
   ],
   "source": [
    "if b>a:\n",
    "    print(\"b is greater than a\")\n",
    "else:\n",
    "    print(\"a is greater than b\")"
   ]
  },
  {
   "cell_type": "code",
   "execution_count": 12,
   "id": "8d5366c0-c797-4d6a-8abe-20fd5865dd2f",
   "metadata": {},
   "outputs": [],
   "source": [
    "a=23\n",
    "b=23"
   ]
  },
  {
   "cell_type": "code",
   "execution_count": 13,
   "id": "fd0085f6-0cf6-416d-aa76-6e90f931b965",
   "metadata": {},
   "outputs": [
    {
     "name": "stdout",
     "output_type": "stream",
     "text": [
      "b is equal to a\n"
     ]
    }
   ],
   "source": [
    "if b>a:\n",
    "    print(\"b is greater than a\")\n",
    "elif b==a:\n",
    "    print(\"b is equal to a\")\n",
    "else:\n",
    "    print(\"a is greater than b\")"
   ]
  },
  {
   "cell_type": "code",
   "execution_count": 14,
   "id": "54570ccb-5d48-41a8-9e9d-85ed25c8b572",
   "metadata": {},
   "outputs": [],
   "source": [
    "a=32\n",
    "b=23"
   ]
  },
  {
   "cell_type": "code",
   "execution_count": 15,
   "id": "95a6caa2-9fff-46b5-b68f-5b91cea8727a",
   "metadata": {},
   "outputs": [
    {
     "name": "stdout",
     "output_type": "stream",
     "text": [
      "a is greater than b\n"
     ]
    }
   ],
   "source": [
    "if b>a:\n",
    "    print(\"b is greater than a\")\n",
    "elif b==a:\n",
    "    print(\"b is equal to a\")\n",
    "else:\n",
    "    print(\"a is greater than b\")"
   ]
  },
  {
   "cell_type": "code",
   "execution_count": 16,
   "id": "f3e340aa-99a4-4199-85be-a4b95877cfd0",
   "metadata": {},
   "outputs": [],
   "source": [
    "name=\"Abinayaa\""
   ]
  },
  {
   "cell_type": "code",
   "execution_count": 17,
   "id": "2f33437b-fade-4a76-9a89-b249c47ff45e",
   "metadata": {},
   "outputs": [
    {
     "name": "stdout",
     "output_type": "stream",
     "text": [
      "Hi Abinayaa\n"
     ]
    }
   ],
   "source": [
    "if name!=\"Harish\":\n",
    "    print(\"Hi \"+name)\n",
    "else:\n",
    "    print(\"Name is invalid\")"
   ]
  },
  {
   "cell_type": "code",
   "execution_count": 23,
   "id": "71da36dd-51ac-4466-bfa5-7b757d2f7cd2",
   "metadata": {},
   "outputs": [],
   "source": [
    "name=\"Abi\"\n",
    "dob=\"01.11.1999\""
   ]
  },
  {
   "cell_type": "code",
   "execution_count": 24,
   "id": "18f0a486-e057-4255-8eb8-a7234e6c878a",
   "metadata": {},
   "outputs": [
    {
     "name": "stdout",
     "output_type": "stream",
     "text": [
      "Name is invalid\n"
     ]
    }
   ],
   "source": [
    "if name==\"Abinayaa\" and dob==\"01.11.1999\":\n",
    "    print(\"Invalid\")\n",
    "elif name==\"Abinayaa\" and dob==\"04.11.1999\":\n",
    "    print(\"Hi \"+name)\n",
    "else:\n",
    "    print(\"Name is invalid\")"
   ]
  },
  {
   "cell_type": "markdown",
   "id": "bc16282f-4812-45ad-880c-ef4a0f7761c7",
   "metadata": {},
   "source": [
    "# For loop"
   ]
  },
  {
   "cell_type": "code",
   "execution_count": 26,
   "id": "7c3f64a2-64af-46e8-a1c4-7856cd63e8cc",
   "metadata": {},
   "outputs": [],
   "source": [
    "Vegetables=[\"tomato\",\"carrot\",\"chilly\",\"onion\"]"
   ]
  },
  {
   "cell_type": "code",
   "execution_count": 28,
   "id": "790eeef2-9bc9-4d14-8b97-5be9758a0e69",
   "metadata": {},
   "outputs": [
    {
     "name": "stdout",
     "output_type": "stream",
     "text": [
      "tomato  is available\n",
      "no availability\n",
      "chilly  is available\n",
      "no availability\n"
     ]
    }
   ],
   "source": [
    "for items in Vegetables:\n",
    "    if items==\"tomato\":\n",
    "        print(items+\"  is available\")\n",
    "    elif items==\"chilly\":\n",
    "        print(items+\"  is available\")\n",
    "    else:\n",
    "        print(\"no availability\")"
   ]
  },
  {
   "cell_type": "code",
   "execution_count": 30,
   "id": "3469f74e-7b5d-40f4-b03c-8d60fdf71458",
   "metadata": {},
   "outputs": [
    {
     "name": "stdout",
     "output_type": "stream",
     "text": [
      "0 tomato\n",
      "1 carrot\n",
      "2 chilly\n",
      "3 onion\n"
     ]
    }
   ],
   "source": [
    "for count, ele in enumerate(Vegetables):\n",
    "    print(count,ele)"
   ]
  },
  {
   "cell_type": "code",
   "execution_count": 31,
   "id": "9827163f-adf6-4a24-ae0c-3527440a1141",
   "metadata": {},
   "outputs": [
    {
     "name": "stdout",
     "output_type": "stream",
     "text": [
      "tomato\n",
      "carrot\n",
      "chilly\n",
      "onion\n"
     ]
    }
   ],
   "source": [
    "for items in Vegetables:\n",
    "    print(items)"
   ]
  },
  {
   "cell_type": "code",
   "execution_count": 32,
   "id": "3b6458e2-5eb0-47aa-a708-085d33c47669",
   "metadata": {},
   "outputs": [
    {
     "name": "stdout",
     "output_type": "stream",
     "text": [
      "c\n",
      "a\n",
      "r\n",
      "r\n",
      "o\n",
      "t\n"
     ]
    }
   ],
   "source": [
    "for items in \"carrot\":\n",
    "    print(items)"
   ]
  },
  {
   "cell_type": "code",
   "execution_count": 38,
   "id": "0a8763b0-9796-4fe6-9ff4-64b22b108dba",
   "metadata": {},
   "outputs": [
    {
     "name": "stdout",
     "output_type": "stream",
     "text": [
      "tomato\n",
      "carrot\n"
     ]
    }
   ],
   "source": [
    "for items in Vegetables:\n",
    "    print(items)\n",
    "    if items==\"carrot\":\n",
    "        break"
   ]
  },
  {
   "cell_type": "code",
   "execution_count": 39,
   "id": "4cf590db-1a42-4227-84ef-86f105c39219",
   "metadata": {},
   "outputs": [
    {
     "name": "stdout",
     "output_type": "stream",
     "text": [
      "tomato\n"
     ]
    }
   ],
   "source": [
    "for items in Vegetables:\n",
    "    if items==\"carrot\":\n",
    "        break\n",
    "    print(items)"
   ]
  },
  {
   "cell_type": "code",
   "execution_count": 40,
   "id": "f77272c5-bc44-440d-8ee4-58d58ea71ed9",
   "metadata": {},
   "outputs": [
    {
     "name": "stdout",
     "output_type": "stream",
     "text": [
      "tomato\n",
      "chilly\n",
      "onion\n"
     ]
    }
   ],
   "source": [
    "for items in Vegetables:\n",
    "    if items==\"carrot\":\n",
    "        continue\n",
    "    print(items)"
   ]
  },
  {
   "cell_type": "code",
   "execution_count": 41,
   "id": "853c637a-a00a-455c-88d2-530b9706ec92",
   "metadata": {},
   "outputs": [
    {
     "name": "stdout",
     "output_type": "stream",
     "text": [
      "0\n",
      "1\n",
      "2\n",
      "3\n",
      "4\n",
      "5\n"
     ]
    }
   ],
   "source": [
    "for x in range(6):\n",
    "    print(x)"
   ]
  },
  {
   "cell_type": "code",
   "execution_count": 43,
   "id": "5eda1c87-5a72-4e34-90c1-8b0718a95fb0",
   "metadata": {},
   "outputs": [
    {
     "name": "stdout",
     "output_type": "stream",
     "text": [
      "2\n",
      "5\n",
      "8\n",
      "11\n",
      "14\n",
      "17\n",
      "20\n",
      "23\n",
      "26\n",
      "29\n",
      "The given code is executed\n"
     ]
    }
   ],
   "source": [
    "for x in range(2,30, 3):\n",
    "    print(x)\n",
    "else:\n",
    "    print(\"The given code is executed\")"
   ]
  },
  {
   "cell_type": "code",
   "execution_count": 50,
   "id": "bf91989b-597b-462c-9049-d8ab0da22ba2",
   "metadata": {},
   "outputs": [
    {
     "name": "stdout",
     "output_type": "stream",
     "text": [
      "2\n",
      "5\n"
     ]
    }
   ],
   "source": [
    "for x in range(2,30, 3):\n",
    "    if x==8: break\n",
    "    print(x)\n",
    "else:\n",
    "    print(\"The given code is executed\")"
   ]
  },
  {
   "cell_type": "markdown",
   "id": "3173e22e-ce42-4d66-bdb0-353f8850622c",
   "metadata": {},
   "source": [
    "# While loop"
   ]
  },
  {
   "cell_type": "code",
   "execution_count": 54,
   "id": "dec42b3a-0d2a-41a6-8534-95f0ef9fff21",
   "metadata": {},
   "outputs": [
    {
     "name": "stdout",
     "output_type": "stream",
     "text": [
      "1\n",
      "2\n",
      "3\n",
      "4\n",
      "5\n"
     ]
    }
   ],
   "source": [
    "i=1\n",
    "while i<6:\n",
    "    print(i)\n",
    "    i+=1"
   ]
  },
  {
   "cell_type": "code",
   "execution_count": null,
   "id": "350819f2-81e2-416b-ac59-99e1652775b6",
   "metadata": {},
   "outputs": [],
   "source": []
  }
 ],
 "metadata": {
  "kernelspec": {
   "display_name": "Python 3 (ipykernel)",
   "language": "python",
   "name": "python3"
  },
  "language_info": {
   "codemirror_mode": {
    "name": "ipython",
    "version": 3
   },
   "file_extension": ".py",
   "mimetype": "text/x-python",
   "name": "python",
   "nbconvert_exporter": "python",
   "pygments_lexer": "ipython3",
   "version": "3.12.4"
  }
 },
 "nbformat": 4,
 "nbformat_minor": 5
}
