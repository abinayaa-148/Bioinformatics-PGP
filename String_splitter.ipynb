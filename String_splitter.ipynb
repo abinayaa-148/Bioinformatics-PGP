{
 "cells": [
  {
   "cell_type": "code",
   "execution_count": 3,
   "id": "6d4cdb80-c456-4a0c-a65f-1b8ba4a74d51",
   "metadata": {},
   "outputs": [],
   "source": [
    "peptide=\"Ala-Gly-Ala-Gly-Ala-Gly-Ala-Gly\""
   ]
  },
  {
   "cell_type": "code",
   "execution_count": 4,
   "id": "3e70b61a-b9c2-441b-a400-51209fa09131",
   "metadata": {},
   "outputs": [
    {
     "data": {
      "text/plain": [
       "'Ala-Gly-Ala-Gly-Ala-Gly-Ala-Gly'"
      ]
     },
     "execution_count": 4,
     "metadata": {},
     "output_type": "execute_result"
    }
   ],
   "source": [
    "peptide"
   ]
  },
  {
   "cell_type": "code",
   "execution_count": 5,
   "id": "23513be6-6b16-480d-9eee-3e4fa0616f0f",
   "metadata": {},
   "outputs": [
    {
     "data": {
      "text/plain": [
       "['Ala', 'Gly', 'Ala', 'Gly', 'Ala', 'Gly', 'Ala', 'Gly']"
      ]
     },
     "execution_count": 5,
     "metadata": {},
     "output_type": "execute_result"
    }
   ],
   "source": [
    "peptide.split(\"-\")"
   ]
  },
  {
   "cell_type": "code",
   "execution_count": 6,
   "id": "7c81d425-d16b-4e87-a943-084379d45a89",
   "metadata": {},
   "outputs": [
    {
     "data": {
      "text/plain": [
       "'Ala-Gly-Ala-Gly-Ala-Gly-Ala-Gly'"
      ]
     },
     "execution_count": 6,
     "metadata": {},
     "output_type": "execute_result"
    }
   ],
   "source": [
    "peptide"
   ]
  },
  {
   "cell_type": "code",
   "execution_count": null,
   "id": "08bbefa7-4e7a-488c-a857-d0d718ffb60e",
   "metadata": {},
   "outputs": [],
   "source": []
  }
 ],
 "metadata": {
  "kernelspec": {
   "display_name": "Python 3 (ipykernel)",
   "language": "python",
   "name": "python3"
  },
  "language_info": {
   "codemirror_mode": {
    "name": "ipython",
    "version": 3
   },
   "file_extension": ".py",
   "mimetype": "text/x-python",
   "name": "python",
   "nbconvert_exporter": "python",
   "pygments_lexer": "ipython3",
   "version": "3.12.4"
  }
 },
 "nbformat": 4,
 "nbformat_minor": 5
}
